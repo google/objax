{
  "nbformat": 4,
  "nbformat_minor": 0,
  "metadata": {
    "colab": {
      "name": "Logistic Regression.ipynb",
      "provenance": [],
      "collapsed_sections": [
        "Ix8W-GEhlqkL"
      ],
      "toc_visible": true
    },
    "kernelspec": {
      "name": "python3",
      "display_name": "Python 3"
    }
  },
  "cells": [
    {
      "cell_type": "markdown",
      "metadata": {
        "id": "ofWo9K6fTUUt",
        "colab_type": "text"
      },
      "source": [
        "# Logistic Regression\n",
        "\n",
        "In this example we will see how to classify images as horses or people using logistic regression. The tutorial builds upon the concepts introduced in the [Objax basics tutorial](Objax_Basics.html). Consider reading that tutorial first, or you can always go back."
      ]
    },
    {
      "cell_type": "markdown",
      "metadata": {
        "id": "u0a3VjeVqa-N",
        "colab_type": "text"
      },
      "source": [
        "## Imports\n",
        "\n",
        "First, we import the modules we will use in our code."
      ]
    },
    {
      "cell_type": "code",
      "metadata": {
        "id": "-TmyQd4ZnZpg",
        "colab_type": "code",
        "colab": {},
        "executionInfo": {
          "status": "ok",
          "timestamp": 1597767875325,
          "user_tz": 420,
          "elapsed": 549,
          "user": {
            "displayName": "Andreas Terzis",
            "photoUrl": "https://lh3.googleusercontent.com/a-/AOh14GgyMHDRrpyzqWeAqfNYUCBAV6wEwWfRfuCzPdQSSg=s64",
            "userId": "11574137277392387833"
          }
        }
      },
      "source": [
        "%pip --quiet install objax\n",
        "\n",
        "import matplotlib.pyplot as plt\n",
        "import os\n",
        "\n",
        "import numpy as np\n",
        "import tensorflow_datasets as tfds\n",
        "\n",
        "import objax\n",
        "from objax.util import EasyDict"
      ],
      "execution_count": 1,
      "outputs": []
    },
    {
      "cell_type": "markdown",
      "metadata": {
        "id": "ZIdlxcnWqlcL",
        "colab_type": "text"
      },
      "source": [
        "## Loading the Dataset\n",
        "\n",
        "Next, we will load the \"[horses_or_humans](https://www.tensorflow.org/datasets/catalog/horses_or_humans)\" dataset from [TensorFlow DataSets](https://www.tensorflow.org/datasets/api_docs/python/tfds).\n",
        "\n",
        "The ``prepare`` method downscales the image by 3x to reduce training time, flattens each image to a vector, and rescales each pixel value to [-1,1]."
      ]
    },
    {
      "cell_type": "code",
      "metadata": {
        "id": "RvXEBRtgSEY1",
        "colab_type": "code",
        "colab": {},
        "executionInfo": {
          "status": "ok",
          "timestamp": 1597767886453,
          "user_tz": 420,
          "elapsed": 8242,
          "user": {
            "displayName": "Andreas Terzis",
            "photoUrl": "https://lh3.googleusercontent.com/a-/AOh14GgyMHDRrpyzqWeAqfNYUCBAV6wEwWfRfuCzPdQSSg=s64",
            "userId": "11574137277392387833"
          }
        }
      },
      "source": [
        "# Data: train has 1027 images - test has 256 images\n",
        "# Each image is 300 x 300 x 3 bytes\n",
        "DATA_DIR = os.path.join(os.environ['HOME'], 'TFDS')\n",
        "data = tfds.as_numpy(tfds.load(name='horses_or_humans', batch_size=-1, data_dir=DATA_DIR))\n",
        "\n",
        "def prepare(x, downscale=3):\n",
        "  \"\"\"Normalize images to [-1, 1] and downscale them to 100x100x3 (for faster training) and flatten them.\"\"\"\n",
        "  s = x.shape\n",
        "  x = x.astype('f').reshape((s[0], s[1] // downscale, downscale, s[2] // downscale, downscale, s[3]))\n",
        "  return x.mean((2, 4)).reshape((s[0], -1)) * (1 / 127.5) - 1\n",
        "\n",
        "train = EasyDict(image=prepare(data['train']['image']), label=data['train']['label'])\n",
        "test = EasyDict(image=prepare(data['test']['image']), label=data['test']['label'])\n",
        "ndim = train.image.shape[-1]\n",
        "del data"
      ],
      "execution_count": 2,
      "outputs": []
    },
    {
      "cell_type": "markdown",
      "metadata": {
        "id": "GY_CRF87QnvU",
        "colab_type": "text"
      },
      "source": [
        "## Visualizing the Data\n",
        "\n",
        "Let's see a couple of the images in the dataset and their corresponding labels. Note that label ``0`` corresponds to a horse, while label ``1`` corresponds to a human."
      ]
    },
    {
      "cell_type": "code",
      "metadata": {
        "id": "mFshOfmlQnOG",
        "colab_type": "code",
        "colab": {
          "height": 286
        },
        "executionInfo": {
          "status": "ok",
          "timestamp": 1597767892623,
          "user_tz": 420,
          "elapsed": 553,
          "user": {
            "displayName": "Andreas Terzis",
            "photoUrl": "https://lh3.googleusercontent.com/a-/AOh14GgyMHDRrpyzqWeAqfNYUCBAV6wEwWfRfuCzPdQSSg=s64",
            "userId": "11574137277392387833"
          }
        },
        "outputId": "cd20b877-96ae-4c98-ca63-354bd8de64d4"
      },
      "source": [
        "#sample image of a horse.\n",
        "horse_image = np.reshape(train.image[0], [100,100,3])\n",
        "plt.imshow(horse_image)\n",
        "print(\"label for horse_image:\", train.label[0])"
      ],
      "execution_count": 3,
      "outputs": [
        {
          "output_type": "stream",
          "text": [
            "label for horse_image: 0\n"
          ],
          "name": "stdout"
        },
        {
          "output_type": "display_data",
          "data": {
            "image/png": "[encoded data removed]",
            "text/plain": [
              "<Figure size 600x400 with 1 Axes>"
            ]
          },
          "metadata": {
            "tags": []
          }
        }
      ]
    },
    {
      "cell_type": "code",
      "metadata": {
        "id": "zkdQmN1WdlLD",
        "colab_type": "code",
        "colab": {
          "height": 286
        },
        "executionInfo": {
          "status": "ok",
          "timestamp": 1597767895186,
          "user_tz": 420,
          "elapsed": 572,
          "user": {
            "displayName": "Andreas Terzis",
            "photoUrl": "https://lh3.googleusercontent.com/a-/AOh14GgyMHDRrpyzqWeAqfNYUCBAV6wEwWfRfuCzPdQSSg=s64",
            "userId": "11574137277392387833"
          }
        },
        "outputId": "aff0a27a-0caa-4378-dd28-6e5096484d34"
      },
      "source": [
        "#sample image of a human.\n",
        "human_image = np.reshape(train.image[9], [100, 100, 3])\n",
        "plt.imshow(human_image)\n",
        "print(\"label for human_image:\", train.label[9])\n"
      ],
      "execution_count": 4,
      "outputs": [
        {
          "output_type": "stream",
          "text": [
            "label for human_image: 1\n"
          ],
          "name": "stdout"
        },
        {
          "output_type": "display_data",
          "data": {
            "image/png": "[encoded data removed]",
            "text/plain": [
              "<Figure size 600x400 with 1 Axes>"
            ]
          },
          "metadata": {
            "tags": []
          }
        }
      ]
    },
    {
      "cell_type": "markdown",
      "metadata": {
        "id": "263w_dYksmIm",
        "colab_type": "text"
      },
      "source": [
        "## Model Definition\n",
        "\n",
        "``objax.nn.Linear(ndim, 1)`` is a linear neural unit with ``ndim`` inputs and a single output. Given input $\\mathbf{X}$, the output is equal to $\\mathbf{W}\\mathbf{X} + \\mathbf{b}$ where $\\mathbf{W}, \\mathbf{b}$ are the model's parameters. These parameters are available through ``model.vars()``\n",
        "\n"
      ]
    },
    {
      "cell_type": "code",
      "metadata": {
        "id": "t6nVVIM5qHVa",
        "colab_type": "code",
        "colab": {
          "height": 68
        },
        "executionInfo": {
          "status": "ok",
          "timestamp": 1597767952860,
          "user_tz": 420,
          "elapsed": 524,
          "user": {
            "displayName": "Andreas Terzis",
            "photoUrl": "https://lh3.googleusercontent.com/a-/AOh14GgyMHDRrpyzqWeAqfNYUCBAV6wEwWfRfuCzPdQSSg=s64",
            "userId": "11574137277392387833"
          }
        },
        "outputId": "66e3382d-6fce-4522-c176-494b22e3e5fa"
      },
      "source": [
        "# Settings\n",
        "lr = 0.0001  # learning rate\n",
        "batch = 256\n",
        "epochs = 20\n",
        "\n",
        "model = objax.nn.Linear(ndim, 1)\n",
        "print(model.vars())"
      ],
      "execution_count": 5,
      "outputs": [
        {
          "output_type": "stream",
          "text": [
            "(Linear).b                  1 (1,)\n",
            "(Linear).w              30000 (30000, 1)\n",
            "+Total(2)               30001\n"
          ],
          "name": "stdout"
        }
      ]
    },
    {
      "cell_type": "markdown",
      "metadata": {
        "id": "Iz0EhfH6gQcY",
        "colab_type": "text"
      },
      "source": [
        "## Model Inference\n",
        "\n",
        "Now that we have defined the model we can use to classify images. To do so, we call the model with an image from the ``train`` dataset we previously prepared. Notice that we use the image of a human we previously visualized. \n",
        "\n",
        "We get the output of the model by calling ``model()``. We then apply the sigmoid activation function and round the output. Activation outputs lower than or equal to 0.5 are rounded to zero (i.e., horses) whereas outputs larger than 0.5 are rounded to one (i.e., humans). \n",
        "\n"
      ]
    },
    {
      "cell_type": "code",
      "metadata": {
        "id": "iygPHG0ugPYU",
        "colab_type": "code",
        "colab": {
          "height": 34
        },
        "executionInfo": {
          "status": "ok",
          "timestamp": 1597767962130,
          "user_tz": 420,
          "elapsed": 586,
          "user": {
            "displayName": "Andreas Terzis",
            "photoUrl": "https://lh3.googleusercontent.com/a-/AOh14GgyMHDRrpyzqWeAqfNYUCBAV6wEwWfRfuCzPdQSSg=s64",
            "userId": "11574137277392387833"
          }
        },
        "outputId": "65cc8342-ff21-4b58-f3dd-f94c8366159c"
      },
      "source": [
        "# This is an image of a human.\n",
        "print(np.round(objax.functional.sigmoid(model(train.image[9]))))"
      ],
      "execution_count": 6,
      "outputs": [
        {
          "output_type": "stream",
          "text": [
            "[1.]\n"
          ],
          "name": "stdout"
        }
      ]
    },
    {
      "cell_type": "markdown",
      "metadata": {
        "id": "Vyb4dahWhpAW",
        "colab_type": "text"
      },
      "source": [
        "Considering that we initialized the model with random weights, it should not come as a surprise that the model may misclassy a human as a horse. "
      ]
    },
    {
      "cell_type": "markdown",
      "metadata": {
        "id": "kiQ8IWTXuJCq",
        "colab_type": "text"
      },
      "source": [
        "## Optimizer and Loss Function\n",
        "\n",
        "In this example we use the ``objax.optimizer.SGD`` optimizer. Next, we define the loss function we will use to optimize the network. In this case we use the cross entropy loss function. Note that we use `objax.functional.loss.sigmoid_cross_entropy_logits` because we perform binary classification."
      ]
    },
    {
      "cell_type": "code",
      "metadata": {
        "id": "MroptKwQuIDV",
        "colab_type": "code",
        "colab": {},
        "executionInfo": {
          "status": "ok",
          "timestamp": 1597767964790,
          "user_tz": 420,
          "elapsed": 529,
          "user": {
            "displayName": "Andreas Terzis",
            "photoUrl": "https://lh3.googleusercontent.com/a-/AOh14GgyMHDRrpyzqWeAqfNYUCBAV6wEwWfRfuCzPdQSSg=s64",
            "userId": "11574137277392387833"
          }
        }
      },
      "source": [
        "opt = objax.optimizer.SGD(model.vars())\n",
        "\n",
        "# Cross Entropy Loss\n",
        "def loss(x, label):\n",
        "  return objax.functional.loss.sigmoid_cross_entropy_logits(model(x)[:, 0], label).mean()"
      ],
      "execution_count": 7,
      "outputs": []
    },
    {
      "cell_type": "markdown",
      "metadata": {
        "id": "xN5TYLlEuXhi",
        "colab_type": "text"
      },
      "source": [
        "## Back Propagation and Gradient Descent\n",
        "\n",
        "``objax.GradValues`` calculates the gradient of ``loss`` wrt ``model.vars()``. If you want to learn more about gradients read the [Understanding Gradients](../advanced/gradients.html#understanding-gradients) in-depth topic.\n",
        "\n",
        "The ``train_op`` function implements the core of backward propagation and gradient descent. First, we calculate the gradient ``g`` and then pass it to the optimizer which updates the model’s weights."
      ]
    },
    {
      "cell_type": "code",
      "metadata": {
        "id": "25t6iuxfubBq",
        "colab_type": "code",
        "colab": {},
        "executionInfo": {
          "status": "ok",
          "timestamp": 1597767967528,
          "user_tz": 420,
          "elapsed": 479,
          "user": {
            "displayName": "Andreas Terzis",
            "photoUrl": "https://lh3.googleusercontent.com/a-/AOh14GgyMHDRrpyzqWeAqfNYUCBAV6wEwWfRfuCzPdQSSg=s64",
            "userId": "11574137277392387833"
          }
        }
      },
      "source": [
        "gv = objax.GradValues(loss, model.vars())\n",
        "\n",
        "def train_op(x, label):\n",
        "  g, v = gv(x, label)  # returns gradients, loss\n",
        "  opt(lr, g)\n",
        "  return v\n",
        "\n",
        "# This line is optional: it is compiling the code to make it faster.\n",
        "train_op = objax.Jit(train_op, gv.vars() + opt.vars())"
      ],
      "execution_count": 8,
      "outputs": []
    },
    {
      "cell_type": "markdown",
      "metadata": {
        "id": "eAo8BWvrv0t5",
        "colab_type": "text"
      },
      "source": [
        "## Training and Evaluation Loop\n",
        "\n",
        "For each of the training epochs we process all the training data, contained in the train dictionary, in batches of ``batch`` size. At the end of each epoch we compute the classification accuracy by comparing the model’s predictions over the test data to the ground truth labels.\n"
      ]
    },
    {
      "cell_type": "code",
      "metadata": {
        "id": "6xqrHmyvqKO3",
        "colab_type": "code",
        "colab": {
          "height": 357
        },
        "executionInfo": {
          "status": "ok",
          "timestamp": 1597767937132,
          "user_tz": 420,
          "elapsed": 2163,
          "user": {
            "displayName": "Andreas Terzis",
            "photoUrl": "https://lh3.googleusercontent.com/a-/AOh14GgyMHDRrpyzqWeAqfNYUCBAV6wEwWfRfuCzPdQSSg=s64",
            "userId": "11574137277392387833"
          }
        },
        "outputId": "5afefac7-fab3-43a1-fbc6-a8906d35dc15"
      },
      "source": [
        "for epoch in range(epochs):\n",
        "  # Train\n",
        "  avg_loss = 0\n",
        "  # randomly shuffle training data\n",
        "  shuffle_idx = np.random.permutation(train.image.shape[0])\n",
        "  for it in range(0, train.image.shape[0], batch):\n",
        "    sel = shuffle_idx[it: it + batch]\n",
        "    avg_loss += float(train_op(train.image[sel], train.label[sel])[0]) * len(sel)\n",
        "  avg_loss /= it + batch\n",
        "\n",
        "  # Eval\n",
        "  accuracy = 0\n",
        "  for it in range(0, test.image.shape[0], batch):\n",
        "    x, y = test.image[it: it + batch], test.label[it: it + batch]\n",
        "    accuracy += (np.round(objax.functional.sigmoid(model(x)))[:, 0] == y).sum()\n",
        "  accuracy /= test.image.shape[0]\n",
        "  print('Epoch %04d  Loss %.2f  Accuracy %.2f' % (epoch + 1, avg_loss, 100 * accuracy))"
      ],
      "execution_count": 9,
      "outputs": [
        {
          "output_type": "stream",
          "text": [
            "Epoch 0001  Loss 0.25  Accuracy 82.81\n",
            "Epoch 0002  Loss 0.25  Accuracy 82.81\n",
            "Epoch 0003  Loss 0.25  Accuracy 83.59\n",
            "Epoch 0004  Loss 0.25  Accuracy 82.81\n",
            "Epoch 0005  Loss 0.25  Accuracy 82.03\n",
            "Epoch 0006  Loss 0.25  Accuracy 80.86\n",
            "Epoch 0007  Loss 0.25  Accuracy 80.86\n",
            "Epoch 0008  Loss 0.24  Accuracy 80.86\n",
            "Epoch 0009  Loss 0.24  Accuracy 82.03\n",
            "Epoch 0010  Loss 0.24  Accuracy 83.20\n",
            "Epoch 0011  Loss 0.24  Accuracy 82.03\n",
            "Epoch 0012  Loss 0.24  Accuracy 80.86\n",
            "Epoch 0013  Loss 0.24  Accuracy 81.25\n",
            "Epoch 0014  Loss 0.24  Accuracy 83.59\n",
            "Epoch 0015  Loss 0.24  Accuracy 84.38\n",
            "Epoch 0016  Loss 0.24  Accuracy 85.16\n",
            "Epoch 0017  Loss 0.24  Accuracy 84.77\n",
            "Epoch 0018  Loss 0.24  Accuracy 83.98\n",
            "Epoch 0019  Loss 0.24  Accuracy 83.20\n",
            "Epoch 0020  Loss 0.24  Accuracy 83.59\n"
          ],
          "name": "stdout"
        }
      ]
    },
    {
      "cell_type": "markdown",
      "metadata": {
        "id": "fqNmaHmUfnDX",
        "colab_type": "text"
      },
      "source": [
        "## Model Inference After Training\n",
        "\n",
        "Now that the network is trained we can retry classification example above:"
      ]
    },
    {
      "cell_type": "code",
      "metadata": {
        "id": "OLChKdTKhlPf",
        "colab_type": "code",
        "colab": {
          "height": 34
        },
        "executionInfo": {
          "status": "ok",
          "timestamp": 1597767974572,
          "user_tz": 420,
          "elapsed": 483,
          "user": {
            "displayName": "Andreas Terzis",
            "photoUrl": "https://lh3.googleusercontent.com/a-/AOh14GgyMHDRrpyzqWeAqfNYUCBAV6wEwWfRfuCzPdQSSg=s64",
            "userId": "11574137277392387833"
          }
        },
        "outputId": "17542060-0fa2-43a7-af16-72a8f33bf012"
      },
      "source": [
        "print(np.round(objax.functional.sigmoid(model(train.image[9]))))"
      ],
      "execution_count": 10,
      "outputs": [
        {
          "output_type": "stream",
          "text": [
            "[1.]\n"
          ],
          "name": "stdout"
        }
      ]
    },
    {
      "cell_type": "markdown",
      "metadata": {
        "id": "Ix8W-GEhlqkL",
        "colab_type": "text"
      },
      "source": [
        "## Next Steps\n",
        "\n",
        "We saw how we can define, use, and train a very simple model in Objax to classify images of humans and horses. Next, we will learn how to [create custom models](Custom_Networks.html) to classify handwritten digits."
      ]
    }
  ]
}
